{
 "cells": [
  {
   "cell_type": "code",
   "execution_count": 2,
   "metadata": {},
   "outputs": [],
   "source": [
    "from sympy import * \n",
    "from sympy.geometry import *\n",
    "a1, a2, b1, b2, c1, c2 = symbols('a1 a2 b1 b2 c1 c2', integer=True)"
   ]
  },
  {
   "cell_type": "code",
   "execution_count": 3,
   "metadata": {},
   "outputs": [],
   "source": [
    "A = Point(a1,a2)\n",
    "B = Point(b1,b2)\n",
    "C = Point(c1,c2)\n",
    "t = Triangle(A,B,C)"
   ]
  },
  {
   "cell_type": "markdown",
   "metadata": {},
   "source": [
    "# Schwerpunkt"
   ]
  },
  {
   "cell_type": "code",
   "execution_count": 4,
   "metadata": {},
   "outputs": [
    {
     "data": {
      "text/latex": [
       "$\\displaystyle Point2D\\left(\\frac{a_{1}}{3} + \\frac{b_{1}}{3} + \\frac{c_{1}}{3}, \\frac{a_{2}}{3} + \\frac{b_{2}}{3} + \\frac{c_{2}}{3}\\right)$"
      ],
      "text/plain": [
       "Point2D(a1/3 + b1/3 + c1/3, a2/3 + b2/3 + c2/3)"
      ]
     },
     "execution_count": 4,
     "metadata": {},
     "output_type": "execute_result"
    }
   ],
   "source": [
    "# Am einfachsten\n",
    "S = t.centroid; S"
   ]
  },
  {
   "cell_type": "code",
   "execution_count": 5,
   "metadata": {},
   "outputs": [
    {
     "data": {
      "text/latex": [
       "$\\displaystyle Point2D\\left(\\frac{a_{1}}{3} + \\frac{b_{1}}{3} + \\frac{c_{1}}{3}, \\frac{a_{2}}{3} + \\frac{b_{2}}{3} + \\frac{c_{2}}{3}\\right)$"
      ],
      "text/plain": [
       "Point2D(a1/3 + b1/3 + c1/3, a2/3 + b2/3 + c2/3)"
      ]
     },
     "execution_count": 5,
     "metadata": {},
     "output_type": "execute_result"
    }
   ],
   "source": [
    "# Etwas umständlicher\n",
    "S = intersection(t.medians[A], t.medians[B])[0]; S"
   ]
  },
  {
   "cell_type": "code",
   "execution_count": 6,
   "metadata": {},
   "outputs": [
    {
     "data": {
      "text/latex": [
       "$\\displaystyle Point2D\\left(\\frac{a_{1}}{3} + \\frac{b_{1}}{3} + \\frac{c_{1}}{3}, \\frac{a_{2}}{3} + \\frac{b_{2}}{3} + \\frac{c_{2}}{3}\\right)$"
      ],
      "text/plain": [
       "Point2D(a1/3 + b1/3 + c1/3, a2/3 + b2/3 + c2/3)"
      ]
     },
     "execution_count": 6,
     "metadata": {},
     "output_type": "execute_result"
    }
   ],
   "source": [
    "# Auch ganz einfach\n",
    "S = (A+B+C)/3; S"
   ]
  },
  {
   "cell_type": "markdown",
   "metadata": {},
   "source": [
    "# Umkreismittelpunkt"
   ]
  },
  {
   "cell_type": "code",
   "execution_count": 7,
   "metadata": {},
   "outputs": [
    {
     "data": {
      "text/latex": [
       "$\\displaystyle Point2D\\left(\\frac{\\left(a_{1} + b_{1}\\right) \\left(\\left(a_{1} - b_{1}\\right) \\left(b_{2} - c_{2}\\right) - \\left(a_{2} - b_{2}\\right) \\left(b_{1} - c_{1}\\right)\\right) - \\left(a_{1} - c_{1}\\right) \\left(\\left(a_{1} - b_{1}\\right) \\left(b_{2} - c_{2}\\right) - \\left(a_{2} - b_{2}\\right) \\left(b_{1} - c_{1}\\right)\\right) + \\left(b_{2} - c_{2}\\right) \\left(\\left(a_{1} - b_{1}\\right) \\left(a_{1} - c_{1}\\right) + \\left(a_{2} - b_{2}\\right) \\left(a_{2} - c_{2}\\right)\\right)}{2 \\left(\\left(a_{1} - b_{1}\\right) \\left(b_{2} - c_{2}\\right) - \\left(a_{2} - b_{2}\\right) \\left(b_{1} - c_{1}\\right)\\right)}, \\frac{\\left(a_{1} - b_{1}\\right) \\left(\\left(a_{1} - c_{1}\\right) \\left(\\left(a_{1} - b_{1}\\right) \\left(b_{2} - c_{2}\\right) - \\left(a_{2} - b_{2}\\right) \\left(b_{1} - c_{1}\\right)\\right) - \\left(b_{2} - c_{2}\\right) \\left(\\left(a_{1} - b_{1}\\right) \\left(a_{1} - c_{1}\\right) + \\left(a_{2} - b_{2}\\right) \\left(a_{2} - c_{2}\\right)\\right)\\right) + \\left(a_{2} - b_{2}\\right) \\left(a_{2} + b_{2}\\right) \\left(\\left(a_{1} - b_{1}\\right) \\left(b_{2} - c_{2}\\right) - \\left(a_{2} - b_{2}\\right) \\left(b_{1} - c_{1}\\right)\\right)}{2 \\left(a_{2} - b_{2}\\right) \\left(\\left(a_{1} - b_{1}\\right) \\left(b_{2} - c_{2}\\right) - \\left(a_{2} - b_{2}\\right) \\left(b_{1} - c_{1}\\right)\\right)}\\right)$"
      ],
      "text/plain": [
       "Point2D(((a1 + b1)*((a1 - b1)*(b2 - c2) - (a2 - b2)*(b1 - c1)) - (a1 - c1)*((a1 - b1)*(b2 - c2) - (a2 - b2)*(b1 - c1)) + (b2 - c2)*((a1 - b1)*(a1 - c1) + (a2 - b2)*(a2 - c2)))/(2*((a1 - b1)*(b2 - c2) - (a2 - b2)*(b1 - c1))), ((a1 - b1)*((a1 - c1)*((a1 - b1)*(b2 - c2) - (a2 - b2)*(b1 - c1)) - (b2 - c2)*((a1 - b1)*(a1 - c1) + (a2 - b2)*(a2 - c2))) + (a2 - b2)*(a2 + b2)*((a1 - b1)*(b2 - c2) - (a2 - b2)*(b1 - c1)))/(2*(a2 - b2)*((a1 - b1)*(b2 - c2) - (a2 - b2)*(b1 - c1))))"
      ]
     },
     "execution_count": 7,
     "metadata": {},
     "output_type": "execute_result"
    }
   ],
   "source": [
    "# Am einfachsten\n",
    "U = t.circumcenter; U"
   ]
  },
  {
   "cell_type": "code",
   "execution_count": 8,
   "metadata": {},
   "outputs": [
    {
     "data": {
      "text/latex": [
       "$\\displaystyle Point2D\\left(\\frac{\\left(a_{1} + b_{1}\\right) \\left(\\left(a_{1} - b_{1}\\right) \\left(b_{2} - c_{2}\\right) - \\left(a_{2} - b_{2}\\right) \\left(b_{1} - c_{1}\\right)\\right) - \\left(a_{1} - c_{1}\\right) \\left(\\left(a_{1} - b_{1}\\right) \\left(b_{2} - c_{2}\\right) - \\left(a_{2} - b_{2}\\right) \\left(b_{1} - c_{1}\\right)\\right) + \\left(b_{2} - c_{2}\\right) \\left(\\left(a_{1} - b_{1}\\right) \\left(a_{1} - c_{1}\\right) + \\left(a_{2} - b_{2}\\right) \\left(a_{2} - c_{2}\\right)\\right)}{2 \\left(\\left(a_{1} - b_{1}\\right) \\left(b_{2} - c_{2}\\right) - \\left(a_{2} - b_{2}\\right) \\left(b_{1} - c_{1}\\right)\\right)}, \\frac{\\left(a_{1} - b_{1}\\right) \\left(\\left(a_{1} - c_{1}\\right) \\left(\\left(a_{1} - b_{1}\\right) \\left(b_{2} - c_{2}\\right) - \\left(a_{2} - b_{2}\\right) \\left(b_{1} - c_{1}\\right)\\right) - \\left(b_{2} - c_{2}\\right) \\left(\\left(a_{1} - b_{1}\\right) \\left(a_{1} - c_{1}\\right) + \\left(a_{2} - b_{2}\\right) \\left(a_{2} - c_{2}\\right)\\right)\\right) + \\left(a_{2} - b_{2}\\right) \\left(a_{2} + b_{2}\\right) \\left(\\left(a_{1} - b_{1}\\right) \\left(b_{2} - c_{2}\\right) - \\left(a_{2} - b_{2}\\right) \\left(b_{1} - c_{1}\\right)\\right)}{2 \\left(a_{2} - b_{2}\\right) \\left(\\left(a_{1} - b_{1}\\right) \\left(b_{2} - c_{2}\\right) - \\left(a_{2} - b_{2}\\right) \\left(b_{1} - c_{1}\\right)\\right)}\\right)$"
      ],
      "text/plain": [
       "Point2D(((a1 + b1)*((a1 - b1)*(b2 - c2) - (a2 - b2)*(b1 - c1)) - (a1 - c1)*((a1 - b1)*(b2 - c2) - (a2 - b2)*(b1 - c1)) + (b2 - c2)*((a1 - b1)*(a1 - c1) + (a2 - b2)*(a2 - c2)))/(2*((a1 - b1)*(b2 - c2) - (a2 - b2)*(b1 - c1))), ((a1 - b1)*((a1 - c1)*((a1 - b1)*(b2 - c2) - (a2 - b2)*(b1 - c1)) - (b2 - c2)*((a1 - b1)*(a1 - c1) + (a2 - b2)*(a2 - c2))) + (a2 - b2)*(a2 + b2)*((a1 - b1)*(b2 - c2) - (a2 - b2)*(b1 - c1)))/(2*(a2 - b2)*((a1 - b1)*(b2 - c2) - (a2 - b2)*(b1 - c1))))"
      ]
     },
     "execution_count": 8,
     "metadata": {},
     "output_type": "execute_result"
    }
   ],
   "source": [
    "# Etwas umständlicher\n",
    "U = intersection(Segment(A,B).perpendicular_bisector(), Segment(B,C).perpendicular_bisector())[0]; U"
   ]
  },
  {
   "cell_type": "markdown",
   "metadata": {},
   "source": [
    "# Inkreismittelpunkt"
   ]
  },
  {
   "cell_type": "code",
   "execution_count": 9,
   "metadata": {},
   "outputs": [
    {
     "data": {
      "text/latex": [
       "$\\displaystyle Point2D\\left(\\frac{a_{1} \\sqrt{\\left(b_{1} - c_{1}\\right)^{2} + \\left(b_{2} - c_{2}\\right)^{2}} + b_{1} \\sqrt{\\left(a_{1} - c_{1}\\right)^{2} + \\left(a_{2} - c_{2}\\right)^{2}} + c_{1} \\sqrt{\\left(a_{1} - b_{1}\\right)^{2} + \\left(a_{2} - b_{2}\\right)^{2}}}{\\sqrt{\\left(a_{1} - b_{1}\\right)^{2} + \\left(a_{2} - b_{2}\\right)^{2}} + \\sqrt{\\left(a_{1} - c_{1}\\right)^{2} + \\left(a_{2} - c_{2}\\right)^{2}} + \\sqrt{\\left(b_{1} - c_{1}\\right)^{2} + \\left(b_{2} - c_{2}\\right)^{2}}}, \\frac{a_{2} \\sqrt{\\left(b_{1} - c_{1}\\right)^{2} + \\left(b_{2} - c_{2}\\right)^{2}} + b_{2} \\sqrt{\\left(a_{1} - c_{1}\\right)^{2} + \\left(a_{2} - c_{2}\\right)^{2}} + c_{2} \\sqrt{\\left(a_{1} - b_{1}\\right)^{2} + \\left(a_{2} - b_{2}\\right)^{2}}}{\\sqrt{\\left(a_{1} - b_{1}\\right)^{2} + \\left(a_{2} - b_{2}\\right)^{2}} + \\sqrt{\\left(a_{1} - c_{1}\\right)^{2} + \\left(a_{2} - c_{2}\\right)^{2}} + \\sqrt{\\left(b_{1} - c_{1}\\right)^{2} + \\left(b_{2} - c_{2}\\right)^{2}}}\\right)$"
      ],
      "text/plain": [
       "Point2D((a1*sqrt((b1 - c1)**2 + (b2 - c2)**2) + b1*sqrt((a1 - c1)**2 + (a2 - c2)**2) + c1*sqrt((a1 - b1)**2 + (a2 - b2)**2))/(sqrt((a1 - b1)**2 + (a2 - b2)**2) + sqrt((a1 - c1)**2 + (a2 - c2)**2) + sqrt((b1 - c1)**2 + (b2 - c2)**2)), (a2*sqrt((b1 - c1)**2 + (b2 - c2)**2) + b2*sqrt((a1 - c1)**2 + (a2 - c2)**2) + c2*sqrt((a1 - b1)**2 + (a2 - b2)**2))/(sqrt((a1 - b1)**2 + (a2 - b2)**2) + sqrt((a1 - c1)**2 + (a2 - c2)**2) + sqrt((b1 - c1)**2 + (b2 - c2)**2)))"
      ]
     },
     "execution_count": 9,
     "metadata": {},
     "output_type": "execute_result"
    }
   ],
   "source": [
    "# Am einfachsten\n",
    "I = t.incenter; I"
   ]
  },
  {
   "cell_type": "code",
   "execution_count": 10,
   "metadata": {},
   "outputs": [],
   "source": [
    "# Etwas umständlicher ... Achtung das braucht ewig!!\n",
    "# I = intersection(t.bisectors()[A], t.bisectors()[B])[0]; I"
   ]
  },
  {
   "cell_type": "code",
   "execution_count": 11,
   "metadata": {},
   "outputs": [],
   "source": [
    "# Wie steht es um einen Teilschritt?\n",
    "# t.bisectors()[A]  # ... geht auch nicht"
   ]
  },
  {
   "cell_type": "markdown",
   "metadata": {},
   "source": [
    "# Höhenschnittpunkt"
   ]
  },
  {
   "cell_type": "code",
   "execution_count": 12,
   "metadata": {},
   "outputs": [
    {
     "data": {
      "text/latex": [
       "$\\displaystyle Point2D\\left(\\frac{- a_{1} a_{2} b_{1} + a_{1} a_{2} c_{1} + a_{1} b_{1} b_{2} - a_{1} c_{1} c_{2} - a_{2}^{2} b_{2} + a_{2}^{2} c_{2} + a_{2} b_{2}^{2} - a_{2} c_{2}^{2} - b_{1} b_{2} c_{1} + b_{1} c_{1} c_{2} - b_{2}^{2} c_{2} + b_{2} c_{2}^{2}}{a_{1} b_{2} - a_{1} c_{2} - a_{2} b_{1} + a_{2} c_{1} + b_{1} c_{2} - b_{2} c_{1}}, \\frac{a_{1}^{2} b_{1} - a_{1}^{2} c_{1} + a_{1} a_{2} b_{2} - a_{1} a_{2} c_{2} - a_{1} b_{1}^{2} + a_{1} c_{1}^{2} - a_{2} b_{1} b_{2} + a_{2} c_{1} c_{2} + b_{1}^{2} c_{1} + b_{1} b_{2} c_{2} - b_{1} c_{1}^{2} - b_{2} c_{1} c_{2}}{a_{1} b_{2} - a_{1} c_{2} - a_{2} b_{1} + a_{2} c_{1} + b_{1} c_{2} - b_{2} c_{1}}\\right)$"
      ],
      "text/plain": [
       "Point2D((-a1*a2*b1 + a1*a2*c1 + a1*b1*b2 - a1*c1*c2 - a2**2*b2 + a2**2*c2 + a2*b2**2 - a2*c2**2 - b1*b2*c1 + b1*c1*c2 - b2**2*c2 + b2*c2**2)/(a1*b2 - a1*c2 - a2*b1 + a2*c1 + b1*c2 - b2*c1), (a1**2*b1 - a1**2*c1 + a1*a2*b2 - a1*a2*c2 - a1*b1**2 + a1*c1**2 - a2*b1*b2 + a2*c1*c2 + b1**2*c1 + b1*b2*c2 - b1*c1**2 - b2*c1*c2)/(a1*b2 - a1*c2 - a2*b1 + a2*c1 + b1*c2 - b2*c1))"
      ]
     },
     "execution_count": 12,
     "metadata": {},
     "output_type": "execute_result"
    }
   ],
   "source": [
    "H = t.orthocenter; H"
   ]
  },
  {
   "cell_type": "code",
   "execution_count": 13,
   "metadata": {},
   "outputs": [],
   "source": [
    "# Etwas umständlicher ... Achtung das braucht ewig und das CAS hängt sich auf dabei!!\n",
    "# H = intersection(t.altitudes[A], t.altitudes[B])[0]; H"
   ]
  },
  {
   "cell_type": "code",
   "execution_count": 14,
   "metadata": {},
   "outputs": [],
   "source": [
    "# Wie steht es um einen Teilschritt?\n",
    "# t.altitudes[A]  # ... geht auch nicht"
   ]
  },
  {
   "cell_type": "markdown",
   "metadata": {},
   "source": [
    "# Euler Gerade"
   ]
  },
  {
   "cell_type": "code",
   "execution_count": 17,
   "metadata": {},
   "outputs": [
    {
     "data": {
      "text/plain": [
       "True"
      ]
     },
     "execution_count": 17,
     "metadata": {},
     "output_type": "execute_result"
    }
   ],
   "source": [
    "# Liegen H, U und S alle auf einer Geraden?\n",
    "Point.is_collinear(H, U, S)"
   ]
  },
  {
   "cell_type": "code",
   "execution_count": 18,
   "metadata": {},
   "outputs": [
    {
     "data": {
      "text/latex": [
       "$\\displaystyle Line2D\\left(Point2D\\left(\\frac{- a_{1} a_{2} b_{1} + a_{1} a_{2} c_{1} + a_{1} b_{1} b_{2} - a_{1} c_{1} c_{2} - a_{2}^{2} b_{2} + a_{2}^{2} c_{2} + a_{2} b_{2}^{2} - a_{2} c_{2}^{2} - b_{1} b_{2} c_{1} + b_{1} c_{1} c_{2} - b_{2}^{2} c_{2} + b_{2} c_{2}^{2}}{a_{1} b_{2} - a_{1} c_{2} - a_{2} b_{1} + a_{2} c_{1} + b_{1} c_{2} - b_{2} c_{1}}, \\frac{a_{1}^{2} b_{1} - a_{1}^{2} c_{1} + a_{1} a_{2} b_{2} - a_{1} a_{2} c_{2} - a_{1} b_{1}^{2} + a_{1} c_{1}^{2} - a_{2} b_{1} b_{2} + a_{2} c_{1} c_{2} + b_{1}^{2} c_{1} + b_{1} b_{2} c_{2} - b_{1} c_{1}^{2} - b_{2} c_{1} c_{2}}{a_{1} b_{2} - a_{1} c_{2} - a_{2} b_{1} + a_{2} c_{1} + b_{1} c_{2} - b_{2} c_{1}}\\right), Point2D\\left(\\frac{\\left(a_{1} + b_{1}\\right) \\left(\\left(a_{1} - b_{1}\\right) \\left(b_{2} - c_{2}\\right) - \\left(a_{2} - b_{2}\\right) \\left(b_{1} - c_{1}\\right)\\right) - \\left(a_{1} - c_{1}\\right) \\left(\\left(a_{1} - b_{1}\\right) \\left(b_{2} - c_{2}\\right) - \\left(a_{2} - b_{2}\\right) \\left(b_{1} - c_{1}\\right)\\right) + \\left(b_{2} - c_{2}\\right) \\left(\\left(a_{1} - b_{1}\\right) \\left(a_{1} - c_{1}\\right) + \\left(a_{2} - b_{2}\\right) \\left(a_{2} - c_{2}\\right)\\right)}{2 \\left(\\left(a_{1} - b_{1}\\right) \\left(b_{2} - c_{2}\\right) - \\left(a_{2} - b_{2}\\right) \\left(b_{1} - c_{1}\\right)\\right)}, \\frac{\\left(a_{1} - b_{1}\\right) \\left(\\left(a_{1} - c_{1}\\right) \\left(\\left(a_{1} - b_{1}\\right) \\left(b_{2} - c_{2}\\right) - \\left(a_{2} - b_{2}\\right) \\left(b_{1} - c_{1}\\right)\\right) - \\left(b_{2} - c_{2}\\right) \\left(\\left(a_{1} - b_{1}\\right) \\left(a_{1} - c_{1}\\right) + \\left(a_{2} - b_{2}\\right) \\left(a_{2} - c_{2}\\right)\\right)\\right) + \\left(a_{2} - b_{2}\\right) \\left(a_{2} + b_{2}\\right) \\left(\\left(a_{1} - b_{1}\\right) \\left(b_{2} - c_{2}\\right) - \\left(a_{2} - b_{2}\\right) \\left(b_{1} - c_{1}\\right)\\right)}{2 \\left(a_{2} - b_{2}\\right) \\left(\\left(a_{1} - b_{1}\\right) \\left(b_{2} - c_{2}\\right) - \\left(a_{2} - b_{2}\\right) \\left(b_{1} - c_{1}\\right)\\right)}\\right)\\right)$"
      ],
      "text/plain": [
       "Line2D(Point2D((-a1*a2*b1 + a1*a2*c1 + a1*b1*b2 - a1*c1*c2 - a2**2*b2 + a2**2*c2 + a2*b2**2 - a2*c2**2 - b1*b2*c1 + b1*c1*c2 - b2**2*c2 + b2*c2**2)/(a1*b2 - a1*c2 - a2*b1 + a2*c1 + b1*c2 - b2*c1), (a1**2*b1 - a1**2*c1 + a1*a2*b2 - a1*a2*c2 - a1*b1**2 + a1*c1**2 - a2*b1*b2 + a2*c1*c2 + b1**2*c1 + b1*b2*c2 - b1*c1**2 - b2*c1*c2)/(a1*b2 - a1*c2 - a2*b1 + a2*c1 + b1*c2 - b2*c1)), Point2D(((a1 + b1)*((a1 - b1)*(b2 - c2) - (a2 - b2)*(b1 - c1)) - (a1 - c1)*((a1 - b1)*(b2 - c2) - (a2 - b2)*(b1 - c1)) + (b2 - c2)*((a1 - b1)*(a1 - c1) + (a2 - b2)*(a2 - c2)))/(2*((a1 - b1)*(b2 - c2) - (a2 - b2)*(b1 - c1))), ((a1 - b1)*((a1 - c1)*((a1 - b1)*(b2 - c2) - (a2 - b2)*(b1 - c1)) - (b2 - c2)*((a1 - b1)*(a1 - c1) + (a2 - b2)*(a2 - c2))) + (a2 - b2)*(a2 + b2)*((a1 - b1)*(b2 - c2) - (a2 - b2)*(b1 - c1)))/(2*(a2 - b2)*((a1 - b1)*(b2 - c2) - (a2 - b2)*(b1 - c1)))))"
      ]
     },
     "execution_count": 18,
     "metadata": {},
     "output_type": "execute_result"
    }
   ],
   "source": [
    "# Euler Gerade\n",
    "t.eulerline"
   ]
  },
  {
   "cell_type": "markdown",
   "metadata": {},
   "source": [
    "# Für ein spezielles Dreieck"
   ]
  },
  {
   "cell_type": "code",
   "execution_count": 19,
   "metadata": {},
   "outputs": [],
   "source": [
    "A = Point(0,0)\n",
    "B = Point(3,0)\n",
    "C = Point(2,1)\n",
    "t = Triangle(A,B,C)"
   ]
  },
  {
   "cell_type": "code",
   "execution_count": 20,
   "metadata": {},
   "outputs": [
    {
     "data": {
      "text/latex": [
       "$\\displaystyle Point2D\\left(\\frac{5}{3}, \\frac{1}{3}\\right)$"
      ],
      "text/plain": [
       "Point2D(5/3, 1/3)"
      ]
     },
     "execution_count": 20,
     "metadata": {},
     "output_type": "execute_result"
    }
   ],
   "source": [
    "S = t.centroid; S"
   ]
  },
  {
   "cell_type": "code",
   "execution_count": 21,
   "metadata": {},
   "outputs": [
    {
     "data": {
      "text/latex": [
       "$\\displaystyle Point2D\\left(2, 2\\right)$"
      ],
      "text/plain": [
       "Point2D(2, 2)"
      ]
     },
     "execution_count": 21,
     "metadata": {},
     "output_type": "execute_result"
    }
   ],
   "source": [
    "H = t.orthocenter; H"
   ]
  },
  {
   "cell_type": "code",
   "execution_count": 22,
   "metadata": {},
   "outputs": [
    {
     "data": {
      "text/latex": [
       "$\\displaystyle Point2D\\left(\\frac{3}{2}, - \\frac{1}{2}\\right)$"
      ],
      "text/plain": [
       "Point2D(3/2, -1/2)"
      ]
     },
     "execution_count": 22,
     "metadata": {},
     "output_type": "execute_result"
    }
   ],
   "source": [
    "U = t.circumcenter; U"
   ]
  },
  {
   "cell_type": "code",
   "execution_count": 23,
   "metadata": {},
   "outputs": [
    {
     "data": {
      "text/latex": [
       "$\\displaystyle Point2D\\left(\\frac{3 \\left(2 + \\sqrt{5}\\right)}{\\sqrt{2} + \\sqrt{5} + 3}, \\frac{3}{\\sqrt{2} + \\sqrt{5} + 3}\\right)$"
      ],
      "text/plain": [
       "Point2D(3*(2 + sqrt(5))/(sqrt(2) + sqrt(5) + 3), 3/(sqrt(2) + sqrt(5) + 3))"
      ]
     },
     "execution_count": 23,
     "metadata": {},
     "output_type": "execute_result"
    }
   ],
   "source": [
    "I = t.incenter; I"
   ]
  },
  {
   "cell_type": "code",
   "execution_count": 24,
   "metadata": {},
   "outputs": [
    {
     "data": {
      "text/plain": [
       "True"
      ]
     },
     "execution_count": 24,
     "metadata": {},
     "output_type": "execute_result"
    }
   ],
   "source": [
    "Point.is_collinear(H, U, S)"
   ]
  },
  {
   "cell_type": "code",
   "execution_count": 25,
   "metadata": {},
   "outputs": [
    {
     "data": {
      "image/svg+xml": [
       "<svg xmlns=\"http://www.w3.org/2000/svg\"\n",
       "            xmlns:xlink=\"http://www.w3.org/1999/xlink\"\n",
       "            width=\"100.0\" height=\"100.0\" viewBox=\"1.25000000000000 -0.750000000000000 1.00000000000000 3.00000000000000\"\n",
       "            preserveAspectRatio=\"xMinYMin meet\">\n",
       "            <defs>\n",
       "                <marker id=\"markerCircle\" markerWidth=\"8\" markerHeight=\"8\"\n",
       "                    refx=\"5\" refy=\"5\" markerUnits=\"strokeWidth\">\n",
       "                    <circle cx=\"5\" cy=\"5\" r=\"1.5\" style=\"stroke: none; fill:#000000;\"/>\n",
       "                </marker>\n",
       "                <marker id=\"markerArrow\" markerWidth=\"13\" markerHeight=\"13\" refx=\"2\" refy=\"4\"\n",
       "                       orient=\"auto\" markerUnits=\"strokeWidth\">\n",
       "                    <path d=\"M2,2 L2,6 L6,4\" style=\"fill: #000000;\" />\n",
       "                </marker>\n",
       "                <marker id=\"markerReverseArrow\" markerWidth=\"13\" markerHeight=\"13\" refx=\"6\" refy=\"4\"\n",
       "                       orient=\"auto\" markerUnits=\"strokeWidth\">\n",
       "                    <path d=\"M6,2 L6,6 L2,4\" style=\"fill: #000000;\" />\n",
       "                </marker>\n",
       "            </defs><g transform=\"matrix(1,0,0,-1,0,1.50000000000000)\"><path fill-rule=\"evenodd\" fill=\"#66cc99\" stroke=\"#555555\" stroke-width=\"0.0600000000000000\" opacity=\"0.6\" d=\"M 2.00000000000000,2.00000000000000 L 1.50000000000000,-0.500000000000000\" marker-start=\"url(#markerReverseArrow)\" marker-end=\"url(#markerArrow)\"/></g></svg>"
      ],
      "text/latex": [
       "$\\displaystyle Line2D\\left(Point2D\\left(2, 2\\right), Point2D\\left(\\frac{3}{2}, - \\frac{1}{2}\\right)\\right)$"
      ],
      "text/plain": [
       "Line2D(Point2D(2, 2), Point2D(3/2, -1/2))"
      ]
     },
     "execution_count": 25,
     "metadata": {},
     "output_type": "execute_result"
    }
   ],
   "source": [
    "t.eulerline"
   ]
  }
 ],
 "metadata": {
  "kernelspec": {
   "display_name": "Python 3",
   "language": "python",
   "name": "python3"
  },
  "language_info": {
   "codemirror_mode": {
    "name": "ipython",
    "version": 3
   },
   "file_extension": ".py",
   "mimetype": "text/x-python",
   "name": "python",
   "nbconvert_exporter": "python",
   "pygments_lexer": "ipython3",
   "version": "3.6.8"
  }
 },
 "nbformat": 4,
 "nbformat_minor": 2
}
